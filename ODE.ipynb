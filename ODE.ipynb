{
  "nbformat": 4,
  "nbformat_minor": 0,
  "metadata": {
    "colab": {
      "name": "Задача2.ipynb",
      "provenance": [],
      "collapsed_sections": []
    },
    "kernelspec": {
      "name": "python3",
      "display_name": "Python 3"
    }
  },
  "cells": [
    {
      "cell_type": "markdown",
      "metadata": {
        "id": "2gFfVssVJTHe",
        "colab_type": "text"
      },
      "source": [
        "Задача 2. Урсов, 414 гр.\n",
        "\n",
        "Требуется решить задачу Коши для ОДУ первого порядка на заданном промежутке с заданной точностью методом ломанных (метод Коши). Проверить точность с помощью правила Рунге. Добавлено по чистой случайности сюда так же решение задачи Коши методом Рунге-Кутта 4-го порядка (неправильно прочитал в начале задание). \n",
        "\n",
        "Весь промежуток разбивается на $n$ частей. \n",
        "\n",
        "# Метод Эйлера:\n",
        "\\begin{equation}\n",
        "y_{i+1} = y_i + h f(x_i, y_i), i = \\overline{0,n} \\\\\n",
        "\\end{equation}\n",
        "Точность метода равна $O(h)$.\n",
        "\n",
        "\n",
        "# Метод Рунге-Кутта 4-го порядка:\n",
        "\\begin{align}\n",
        "y_{i+1} = y_i + \\frac{h}{6}(k_1 + 2k_2 + 3k_3 + k_4) , i = \\overline{0,n} \\\\\n",
        "k_1 = f(x_i,y_i); \\\\\n",
        "k_2 = f(x_i + \\frac{h}{2},y_i + \\frac{h}{2}k_1); \\\\\n",
        "k_3 = f(x_i + \\frac{h}{2},y_i + \\frac{h}{2}k_2); \\\\\n",
        "k_4 = f(x_i + h,y_i + h k_3). \\\\\n",
        "\\end{align}\n",
        "Точность метода равна $O(h^4)$.\n",
        "\n",
        "# Правило Рунге:\n",
        "Точность можно посчитать следующим способом. Мы решаем ОДУ сначала с шагом h, а потом решаем то же ОДУ с шагом h/2. Погрешность будем вычислять вот так:\n",
        "\\begin{equation}\n",
        "\\max\\limits_{i = \\overline{0,n}}\\frac{|y_{i,h} - y_{i,h/2}|}{2^p - 1},\n",
        "\\end{equation}\n",
        "$p$ - точность метода.\n",
        "# Инструкция\n",
        "Скомпилировать по очереди все ячейки. В дальнейшем компляцию можно начинать с ячейки, где определена функция (если изменить ОДУ и его параметры). Если что-то изменить в коде, то лучше все заново скомпилировать."
      ]
    },
    {
      "cell_type": "code",
      "metadata": {
        "id": "qum6i2qW7twc",
        "colab_type": "code",
        "colab": {}
      },
      "source": [
        "# Импортируем необходимые библиотеки.\n",
        "import math\n",
        "import numpy as np\n",
        "import matplotlib.pyplot as plt"
      ],
      "execution_count": 0,
      "outputs": []
    },
    {
      "cell_type": "code",
      "metadata": {
        "id": "ArsjfYtG_VHN",
        "colab_type": "code",
        "colab": {}
      },
      "source": [
        "# Определяем функцию, которая выводит массив значений функции y, полученный численным интегрированием ОДУ первого порядка. Аргументы: a, b - границы, на которых мы получаем решение,\n",
        "# y0 - начальное значение функции в точке a, n - число разбиения всего промежутка.\n",
        "def Eiler(a, b, y0, n):\n",
        "  # Делаем сетку по x\n",
        "  x = np.linspace(a, b, n)\n",
        "  h = (b-a)/n\n",
        "  y = [y0]\n",
        "  # Заполняем массив значений y\n",
        "  for i in range(1, n):\n",
        "    #print(y)\n",
        "    y0 = y0 + h*f(x[i-1],y0) \n",
        "    y.append(y0)\n",
        "    #print(y[len(y)-1])\n",
        "  # Возвращаем массив значений y\n",
        "  return np.array(y)"
      ],
      "execution_count": 0,
      "outputs": []
    },
    {
      "cell_type": "code",
      "metadata": {
        "id": "8j2Ix6VgEB4k",
        "colab_type": "code",
        "colab": {}
      },
      "source": [
        "# Определяем функции, необходимые для решения ОДУ методом Рунге-Кутта 4-го порядка.\n",
        "def k1(x, y):\n",
        "  return f(x, y)\n",
        "def k2(x, y, h):\n",
        "  return f(x + h/2, y + h*k1(x, y)/2)\n",
        "def k3(x, y, h):\n",
        "  return f(x + h/2, y + h*k2(x, y, h)/2)\n",
        "def k4(x, y, h):\n",
        "  return f(x + h, y + h*k3(x, y, h))\n",
        "def Runge(a, b, y0, n):\n",
        "  # Делаем сетку по x\n",
        "  x = np.linspace(a, b, n)\n",
        "  h = (b-a)/n\n",
        "  y = [y0]\n",
        "  # Заполняем массив значений y\n",
        "  for i in range(1, n):\n",
        "    y0 = y0 + (h/6)*(k1(x[i-1], y0) + 2*k2(x[i-1], y0, h) + 2*k3(x[i-1], y0, h) + k4(x[i-1], y0, h)) \n",
        "    y.append(y0)\n",
        "  # Возвращаем массив значений y\n",
        "  return np.array(y)"
      ],
      "execution_count": 0,
      "outputs": []
    },
    {
      "cell_type": "code",
      "metadata": {
        "id": "KRU2md7riCdx",
        "colab_type": "code",
        "colab": {}
      },
      "source": [
        "# Определяем функцию, на вход которой подается массив длиной 2*n, а возвращает она массив, состоящий только из четных элементов. Функция нужна для правила Рунге.\n",
        "def even(x):\n",
        "  y = []\n",
        "  for i in range(0, x.size, 2):\n",
        "    y.append(x[i])\n",
        "  return y\n",
        "# Определяем функцию, возращающую массив значений функций y решения ОДУ с заданной точностью. \n",
        "def Runge_Rule(a, b, y0, eps, p):\n",
        "  # eps - погрешность. Задается пользователем нижу\n",
        "  err = eps + 1\n",
        "  # Стартовое разбиение, надо же с чего-то начать\n",
        "  n0 = 10\n",
        "  # Цикл. Завершается по достижении значении погрешности меньше заданной путем разбиения промежутка [a, b]. Каждый раз вычитаем из значений узлов сетки с n разбиениями значения узлов\n",
        "  # сетки с 2*n разбиениями. Если не достигнута требуемая погрешность, то n = 2*n, то есть увеличиваем кол-во разбиений в два раза и повторяем цикл.  \n",
        "  while err > eps:\n",
        "    # Эйлер для n и 2*n разбиений\n",
        "    if p == 1:\n",
        "      Y0 = Eiler(a, b, y0, n0)\n",
        "      Y20 = Eiler(a, b, y0, n0*2)\n",
        "    # Аналогично Рунге-Кутте\n",
        "    if p == 4:\n",
        "      Y0 = Runge(a, b, y0, n0)\n",
        "      Y20 = Runge(a, b, y0, n0*2)\n",
        "    # Берем максимум погрешности в течение всего метода. (Можно было бы просто взять последние точки, т. к. погрешность там максимальная)\n",
        "    err = np.abs(Y0 - even(Y20)).max()/(2**p - 1)\n",
        "    n0 *= 2\n",
        "  return Y0\n"
      ],
      "execution_count": 0,
      "outputs": []
    },
    {
      "cell_type": "code",
      "metadata": {
        "id": "YJ5tik4c-SP3",
        "colab_type": "code",
        "colab": {}
      },
      "source": [
        "# Определяем производную y'\n",
        "def f(x,y):\n",
        "  return x**2 - 2*y"
      ],
      "execution_count": 0,
      "outputs": []
    },
    {
      "cell_type": "code",
      "metadata": {
        "id": "3OAN774D-i60",
        "colab_type": "code",
        "outputId": "1d48be39-f6ff-4e32-c3e0-75184b5d4314",
        "colab": {
          "base_uri": "https://localhost:8080/",
          "height": 110
        }
      },
      "source": [
        "# Задаем границы, в которых будет определено решение [a,b], начальное условие для задачи Коши, а также количество разбиений сетки по x, погрешность, которую хотите достичь и метод,\n",
        "# который хотите использовать.\n",
        "a = float(input(\"Введите a: \"))\n",
        "b = float(input(\"Введите b: \"))\n",
        "y0 = float(input(\"Введите y(a): \"))\n",
        "eps = float(input(\"Введите величину погрешности, которую хотите достичь: \"))\n",
        "p = int(input(\"Введите точность метода (1 для Эйлера, 4 для Рунге-Кутта): \"))"
      ],
      "execution_count": 0,
      "outputs": [
        {
          "output_type": "stream",
          "text": [
            "Введите a: 0\n",
            "Введите b: 2\n",
            "Введите y(a): 1\n",
            "Введите величину погрешности, которую хотите достичь: 0.001\n",
            "Введите точность метода (1 для Эйлера, 4 для Рунге-Кутта): 4\n"
          ],
          "name": "stdout"
        }
      ]
    },
    {
      "cell_type": "code",
      "metadata": {
        "id": "nohp6upklEiy",
        "colab_type": "code",
        "outputId": "7274f5c7-f309-4dcd-f024-e9d0aa87607b",
        "colab": {
          "base_uri": "https://localhost:8080/",
          "height": 284
        }
      },
      "source": [
        "# Как бы main, тут вызываются функции, описанные сверху, с аргументами, заданными в ячейке сверху.\n",
        "Y = Runge_Rule(a, b, y0, eps, p)\n",
        "x = np.linspace(a, b, Y.size)\n",
        "print(\"Итоговое число разбиений, чтобы достичь точность в {}: {}\".format(str(eps), str(Y.size)))\n",
        "plt.plot(x, Y)\n",
        "plt.show()"
      ],
      "execution_count": 0,
      "outputs": [
        {
          "output_type": "stream",
          "text": [
            "Итоговое число разбиений, чтобы достичь точность в 0.001: 160\n"
          ],
          "name": "stdout"
        },
        {
          "output_type": "display_data",
          "data": {
            "image/png": "[encoded data removed]",
            "text/plain": [
              "<Figure size 432x288 with 1 Axes>"
            ]
          },
          "metadata": {
            "tags": []
          }
        }
      ]
    },
    {
      "cell_type": "code",
      "metadata": {
        "id": "nbS5jvdP-bj0",
        "colab_type": "code",
        "outputId": "08dc53b6-9dfa-46a7-9690-8fdbaebf7f3a",
        "colab": {
          "base_uri": "https://localhost:8080/",
          "height": 284
        }
      },
      "source": [
        "# Тут Эйлер для сравнения \n",
        "Y = Runge_Rule(a, b, y0, eps, 1)\n",
        "x = np.linspace(a, b, Y.size)\n",
        "print(\"Итоговое число разбиений, чтобы достичь точность в {}: {}\".format(str(eps), str(Y.size)))\n",
        "plt.plot(x, Y)\n",
        "plt.show()"
      ],
      "execution_count": 0,
      "outputs": [
        {
          "output_type": "stream",
          "text": [
            "Итоговое число разбиений, чтобы достичь точность в 0.001: 1280\n"
          ],
          "name": "stdout"
        },
        {
          "output_type": "display_data",
          "data": {
            "image/png": "[encoded data removed]",
            "text/plain": [
              "<Figure size 432x288 with 1 Axes>"
            ]
          },
          "metadata": {
            "tags": []
          }
        }
      ]
    }
  ]
}